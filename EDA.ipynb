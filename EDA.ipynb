{
  "nbformat": 4,
  "nbformat_minor": 0,
  "metadata": {
    "colab": {
      "private_outputs": true,
      "provenance": [],
      "cell_execution_strategy": "setup",
      "mount_file_id": "159M5pWyR_ItdN_oIpiKVidp3ryVDqm2m",
      "authorship_tag": "ABX9TyN4uLFNjJgkJD6bj7XVHIEE",
      "include_colab_link": true
    },
    "kernelspec": {
      "name": "python3",
      "display_name": "Python 3"
    },
    "language_info": {
      "name": "python"
    }
  },
  "cells": [
    {
      "cell_type": "markdown",
      "metadata": {
        "id": "view-in-github",
        "colab_type": "text"
      },
      "source": [
        "<a href=\"https://colab.research.google.com/github/Ayesha-Ismail/EDA/blob/main/EDA.ipynb\" target=\"_parent\"><img src=\"https://colab.research.google.com/assets/colab-badge.svg\" alt=\"Open In Colab\"/></a>"
      ]
    },
    {
      "cell_type": "code",
      "source": [
        "#ASSIGNMENT(22-9-24)"
      ],
      "metadata": {
        "id": "iA2WjkeSikOo"
      },
      "execution_count": null,
      "outputs": []
    },
    {
      "cell_type": "code",
      "source": [
        "# Import the pandas library\n",
        "import pandas as pd\n",
        "\n",
        "df = pd.read_csv(\"/content/drive/MyDrive/Dataset colab/Best Movies Netflix.csv\")\n",
        "\n",
        "# Print the dataframe\n",
        "df"
      ],
      "metadata": {
        "id": "HZi9ac05ikV_"
      },
      "execution_count": null,
      "outputs": []
    },
    {
      "cell_type": "code",
      "source": [
        "# DATA CLEANING"
      ],
      "metadata": {
        "id": "na-sGIcRnwpQ"
      },
      "execution_count": null,
      "outputs": []
    },
    {
      "cell_type": "code",
      "source": [
        "df.shape"
      ],
      "metadata": {
        "id": "JxN5dX3fikdo"
      },
      "execution_count": null,
      "outputs": []
    },
    {
      "cell_type": "code",
      "source": [
        "df.info()"
      ],
      "metadata": {
        "id": "hlFhOma2ikk_"
      },
      "execution_count": null,
      "outputs": []
    },
    {
      "cell_type": "code",
      "source": [
        "   df.describe()"
      ],
      "metadata": {
        "id": "DHbty96-j6MQ"
      },
      "execution_count": null,
      "outputs": []
    },
    {
      "cell_type": "code",
      "source": [
        "null_values = df.isnull().sum()\n",
        "null_values"
      ],
      "metadata": {
        "id": "4VwyyLcYj6UY"
      },
      "execution_count": null,
      "outputs": []
    },
    {
      "cell_type": "code",
      "source": [
        "duplicate_samples = df[df.duplicated(keep=False)]\n",
        "print(duplicate_samples)"
      ],
      "metadata": {
        "id": "hok_jEagj6Yg"
      },
      "execution_count": null,
      "outputs": []
    },
    {
      "cell_type": "code",
      "source": [
        "df_new = df.drop(columns=\"index\", inplace=False)\n",
        "df.head()"
      ],
      "metadata": {
        "id": "_IitfDyRj6ew"
      },
      "execution_count": null,
      "outputs": []
    },
    {
      "cell_type": "code",
      "source": [
        "# prompt: get duplicate samples from df\n",
        "\n",
        "duplicate_samples = df_new[df_new.duplicated(keep=False)]\n",
        "print(duplicate_samples)\n"
      ],
      "metadata": {
        "id": "C5CZQs0qlDvJ"
      },
      "execution_count": null,
      "outputs": []
    },
    {
      "cell_type": "code",
      "source": [
        "# prompt: drop duplicated samples\n",
        "\n",
        "df_new.drop_duplicates(inplace=True)"
      ],
      "metadata": {
        "id": "uCQmPGuPlD-g"
      },
      "execution_count": null,
      "outputs": []
    },
    {
      "cell_type": "code",
      "source": [
        "df_new.shape"
      ],
      "metadata": {
        "id": "wb66ZtoylaNY"
      },
      "execution_count": null,
      "outputs": []
    },
    {
      "cell_type": "code",
      "source": [
        "df_new.columns"
      ],
      "metadata": {
        "id": "nPngia6BlawQ"
      },
      "execution_count": null,
      "outputs": []
    },
    {
      "cell_type": "code",
      "source": [
        "df.dtypes"
      ],
      "metadata": {
        "id": "n2ARa0hmla1I"
      },
      "execution_count": null,
      "outputs": []
    },
    {
      "cell_type": "code",
      "source": [
        "import numpy as np\n",
        "means = df.select_dtypes(include=np.number).mean()\n",
        "means"
      ],
      "metadata": {
        "id": "s6p_9sWQmnWB"
      },
      "execution_count": null,
      "outputs": []
    },
    {
      "cell_type": "code",
      "source": [
        "# mean of a specific column\n",
        "df[\"index\"].mean()"
      ],
      "metadata": {
        "id": "-SlH_ksEmyzA"
      },
      "execution_count": null,
      "outputs": []
    },
    {
      "cell_type": "code",
      "source": [
        "# median of a specific column\n",
        "df[\"index\"].median()"
      ],
      "metadata": {
        "id": "RzhYh7e6nCp4"
      },
      "execution_count": null,
      "outputs": []
    },
    {
      "cell_type": "code",
      "source": [
        "df.fillna(means, inplace=True)\n",
        "df"
      ],
      "metadata": {
        "id": "3rj-Ya2vnDCo"
      },
      "execution_count": null,
      "outputs": []
    },
    {
      "cell_type": "code",
      "source": [
        "# prompt: # prompt: create box plots and distribution\n",
        "\n",
        "import matplotlib.pyplot as plt\n",
        "import seaborn as sns\n",
        "\n",
        "# Assuming 'df_new' is your cleaned DataFrame\n",
        "# Create box plots for numerical columns\n",
        "for column in df_new.select_dtypes(include=np.number):\n",
        "  plt.figure(figsize=(6, 4))\n",
        "  sns.boxplot(x=df_new[column])\n",
        "  plt.title(f'Box Plot of {column}')\n",
        "  plt.show()\n",
        "\n",
        "# Create distribution plots for numerical columns\n",
        "for column in df_new.select_dtypes(include=np.number):\n",
        "  plt.figure(figsize=(6, 4))\n",
        "  sns.histplot(df_new[column], kde=True)\n",
        "  plt.title(f'Distribution of {column}')\n",
        "  plt.show()\n"
      ],
      "metadata": {
        "id": "XjsegMj0rteY"
      },
      "execution_count": null,
      "outputs": []
    },
    {
      "source": [
        "# prompt: : remove outlier from release year\n",
        "\n",
        "# Calculate the IQR for the 'RELEASE_YEAR' column\n",
        "Q1 = df_new['RELEASE_YEAR'].quantile(0.25) # Changed 'Release Year' to 'RELEASE_YEAR'\n",
        "Q3 = df_new['RELEASE_YEAR'].quantile(0.75) # Changed 'Release Year' to 'RELEASE_YEAR'\n",
        "IQR = Q3 - Q1\n",
        "\n",
        "# Define the lower and upper bounds for outliers\n",
        "lower_bound = Q1 - 1.5 * IQR\n",
        "upper_bound = Q3 + 1.5 * IQR\n",
        "\n",
        "# Remove rows where 'RELEASE_YEAR' is an outlier\n",
        "df_no_outliers = df_new[(df_new['RELEASE_YEAR'] >= lower_bound) & (df_new['RELEASE_YEAR'] <= upper_bound)] # Changed 'Release Year' to 'RELEASE_YEAR'\n",
        "\n",
        "# Print the shape of the DataFrame before and after removing outliers\n",
        "print(f\"Shape before removing outliers: {df_new.shape}\")\n",
        "print(f\"Shape after removing outliers: {df_no_outliers.shape}\")\n",
        "\n",
        "# Optional: You can visualize the distribution of 'RELEASE_YEAR' before and after removing outliers using box plots or histograms."
      ],
      "cell_type": "code",
      "metadata": {
        "id": "x_SBzQyPs4Tv"
      },
      "execution_count": null,
      "outputs": []
    },
    {
      "cell_type": "code",
      "source": [
        "# prompt: # prompt: plot correlation graph for all numerical features\n",
        "\n",
        "# Select only numerical features\n",
        "numerical_features = df_new.select_dtypes(include=np.number)\n",
        "\n",
        "# Calculate the correlation matrix\n",
        "correlation_matrix = numerical_features.corr()\n",
        "\n",
        "# Create a heatmap of the correlation matrix\n",
        "plt.figure(figsize=(12, 10))\n",
        "sns.heatmap(correlation_matrix, annot=True, cmap='coolwarm', fmt=\".2f\")\n",
        "plt.title('Correlation Matrix of Numerical Features')\n",
        "plt.show()\n"
      ],
      "metadata": {
        "id": "LOo7jjOrtqfD"
      },
      "execution_count": null,
      "outputs": []
    },
    {
      "source": [
        "# prompt: # prompt: plot correlation graph for all numerical features\n",
        "\n",
        "import matplotlib.pyplot as plt\n",
        "import seaborn as sns\n",
        "import numpy as np # Make sure to import numpy\n",
        "\n",
        "# Assuming 'df' is your DataFrame - replace this with the actual code to create your DataFrame\n",
        "df_new = df.copy()\n",
        "\n",
        "# Select only numerical features\n",
        "numerical_features = df_new.select_dtypes(include=np.number)\n",
        "\n",
        "# Calculate the correlation matrix\n",
        "correlation_matrix = numerical_features.corr()\n",
        "\n",
        "# Create a heatmap of the correlation matrix\n",
        "plt.figure(figsize=(12, 10))\n",
        "sns.heatmap(correlation_matrix, annot=True, cmap='coolwarm', fmt=\".2f\")\n",
        "plt.title('Correlation Matrix of Numerical Features')\n",
        "plt.show()"
      ],
      "cell_type": "code",
      "metadata": {
        "id": "ahlfndlYxCGe"
      },
      "execution_count": null,
      "outputs": []
    },
    {
      "cell_type": "code",
      "source": [
        "# prompt: # prompt: plot bivariate graph for all feature among one another\n",
        "\n",
        "# Assuming 'df_new' is your cleaned DataFrame\n",
        "# Create a pairplot to visualize the relationship between all numerical features\n",
        "sns.pairplot(df_new.select_dtypes(include=np.number))\n",
        "plt.show()\n"
      ],
      "metadata": {
        "id": "4z--FWiuxVDQ"
      },
      "execution_count": null,
      "outputs": []
    }
  ]
}